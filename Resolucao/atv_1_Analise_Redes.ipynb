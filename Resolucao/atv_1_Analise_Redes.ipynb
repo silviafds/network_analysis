{
 "cells": [
  {
   "cell_type": "markdown",
   "metadata": {
    "id": "8g4i38N_GerZ"
   },
   "source": [
    "**1. Define:**\n",
    "\n",
    "(a) Subgraph: É uma parte do grafo original. Consiste em um conjunto de vértices e arestas que são subconjuntos dos vértices e arestas do grafo original.\n",
    "\n",
    "(b) Bipartite graph: É um grafo cujos vértices podem ser divididos em dois conjuntos disjuntos. Ademais, não contém qualquer ciclo de comprimento ímpar.\n",
    "\n",
    "(c) Hamiltonian graph: É um tipo especial de grafo que contém em ciclo hamiltoniano. Um ciclo hamiltoniano em um grafo é um caminho que visita cada vértice do grafo exatamente uma vez e volta ao vértice inicial, formando um ciclo.\n",
    "\n",
    "(d) Eulerian graph: É um tipo especial de grafo que contém um ciclo euleriano. Um ciclo euleriano em um grafo é um caminho que visita cada aresta do grafo exatamente uma vez e volta ao vértice inicial, formando um ciclo. É uma rota fechada que passa por todas as arestas do grafo sem repetição."
   ]
  },
  {
   "cell_type": "markdown",
   "metadata": {
    "id": "6VfiRmlVcATy"
   },
   "source": [
    "**2.** **Describe how a breadth-first search algorithm works.**\n",
    "\n",
    "\n",
    "É um algoritmo de busca utilizado para percorrer ou pesquisar uma estrutura de dados em forma de grafo. Inicia em um nó raiz e explora todos os vizinhos desse nó antes de se mover para os vizinhos dos vizinhos. Este algoritmo garante que todos os nós do grafo sejam visitados em ordem de distância do nó raiz.\n",
    "\n",
    "Ele também encontra o caminho mais curto entre o nó raiz e qualquer outro nó alcançavel no grafo, caso exista, em termos de números de arestas.\n",
    "\n",
    "> Adicionar aspas\n",
    "\n"
   ]
  },
  {
   "cell_type": "markdown",
   "metadata": {
    "id": "0YV8BX_GG7Xb"
   },
   "source": [
    "**3. How many edges does a complete graph with n vertices have? What about a complete directed graph with n vertices?**\n",
    "\n",
    "Um grafo completo com n vértices possui n*(n-1)/2 arestas, isso acontece porque cada vértice está conectado a todos os outros vértices, exceto a si mesmo. Assim, o númeto total de arestas é igual ao número de combinações de 2 vértices diferentes escolhidos a partir dos n vértices.\n",
    "\n",
    "\n",
    "Já um grafo direcionado completo com n vértices possui n * (n-1) arestas. Isso acontece porque para cada par de vértices diferentes, existe uma aresta dirigida de um vértice para o outro. Portanto para cada um dos n vértices, há n - 1 arestas dirigidas que saem dele, totalizando n * (n-1) arestas total."
   ]
  },
  {
   "cell_type": "markdown",
   "metadata": {
    "id": "clt19a1bSpHO"
   },
   "source": [
    "**4.** **What are isomorphic graphs? Draw an example.**\n",
    "\n",
    "\n",
    "Dois grafos G e H são isomórficos se existir uma bijação f: V(G) -> V(H) entre os conjuntos de vértices dos dois grafos e tal que para todo par de vértices u e v de G, uv ∈ E(G) se e somente se f(u)f(v) ∈ E(H). Em palavras mais simples, os grafos são isomórficos se eles têm a mesma estrutura, ou seja, se pode ser encontrado um mapeamento entre seus vértices que preserve as conexões entre eles."
   ]
  },
  {
   "cell_type": "markdown",
   "metadata": {
    "id": "4z0Y79cqfeQ_"
   },
   "source": [
    "**5.** **Calculate the degree of the nodes for both node types in the bipartite adjacency matrix from the figure below. Find the isolated node(s).**\n",
    "\n",
    "\n",
    "Não existem nós isolados pois pelo menos se relaciona com outro."
   ]
  },
  {
   "cell_type": "markdown",
   "metadata": {
    "id": "tHqvkJNRfmIL"
   },
   "source": [
    "**6.Given the digraph G = (V, E)**\n",
    "\n",
    "**where V = {M, N, O, P, Q, R, S} and\n",
    "E ={(M, S), (N, O), (P, R), (N, S), (O, M), (N, Q), (O, M), (P, P), (S, M), (O, N),  (S, M), (N, R), (P, M), (M, S)}**\n",
    "\n",
    "\n",
    "**(a) Specify, if any, a simple path from vertex M to vertex S.**\n",
    "\n",
    "  Sim, existe um caminho simples do M para o S.\n",
    "\n",
    "**(b) Specify, if any, a simple cycle, involving at least 4 nodes.**\n",
    "\n",
    "  Sim, acontece um cilo que passa por M→S→N→O→M de forma que não há repetições, apenas no M pois é início e fim.\n",
    "\n",
    "**(c) Is the digraph connected or not connected?**\n",
    "\n",
    "  O dígrafo acima é considerado conectado, pois existe um caminho dirigido entre cada par de vértices no dígrafo.\n",
    "\n",
    "**(d) What is the degree of vertices N and R.**\n",
    "\n",
    "  N possui grau 3 pois N→O, N→S, N→R  e o R tem grau 1 pois é de R→M\n",
    "\n",
    "**(e) Represent the digraph using adjacency list representation.**\n",
    "\n",
    "Para cada vértice do dígrafo, seus vizinhos.\n",
    "\n",
    "Vértice M:\n",
    "Vizinhos: S,O,S\n",
    "\n",
    "Vértice N:\n",
    "Vizinhos: O,S,R\n",
    "\n",
    "Vértice O:\n",
    "Vizinhos: M,N,M\n",
    "\n",
    "Vértice P:\n",
    "Vizinhos: R,M\n",
    "\n",
    "Vértice R:\n",
    "Vizinhos: M\n",
    "\n",
    "Vértice S:\n",
    "Vizinhos: M,M\n",
    "\n",
    "\n",
    "**(f) Represent the digraph using adjacency matrix representation.**\n",
    "\n",
    "A representação em matriz fica:\n",
    "\n",
    "   | M | N | O | P | Q | R | S |\n",
    "-------------------------------\n",
    "M  | 0 | 0 | 1 | 1 | 0 | 0 | 1 |\n",
    "-------------------------------\n",
    "N  | 0 | 0 | 1 | 0 | 0 | 1 | 0 |\n",
    "-------------------------------\n",
    "O  | 1 | 0 | 0 | 0 | 0 | 0 | 0 |\n",
    "-------------------------------\n",
    "P  | 0 | 0 | 0 | 0 | 0 | 0 | 0 |\n",
    "-------------------------------\n",
    "Q  | 0 | 0 | 0 | 0 | 0 | 0 | 0 |\n",
    "-------------------------------\n",
    "R  | 0 | 0 | 0 | 0 | 0 | 0 | 0 |\n",
    "-------------------------------\n",
    "S  | 1 | 0 | 0 | 0 | 0 | 0 | 0 |\n",
    "-------------------------------\n",
    "\n"
   ]
  },
  {
   "cell_type": "code",
   "execution_count": 1,
   "metadata": {},
   "outputs": [
    {
     "ename": "SyntaxError",
     "evalue": "invalid syntax (3696375153.py, line 1)",
     "output_type": "error",
     "traceback": [
      "\u001b[0;36m  Cell \u001b[0;32mIn[1], line 1\u001b[0;36m\u001b[0m\n\u001b[0;31m    7. Draw the undirected and directed versions of the graph G(V, E), where V = {1, 2, 3, 4, 5, 6} and E = {(2, 5), (6, 1), (5, 3), (2, 3)}.\u001b[0m\n\u001b[0m       ^\u001b[0m\n\u001b[0;31mSyntaxError\u001b[0m\u001b[0;31m:\u001b[0m invalid syntax\n"
     ]
    }
   ],
   "source": [
    "7. Draw the undirected and directed versions of the graph G(V, E), where V = {1, 2, 3, 4, 5, 6} and E = {(2, 5), (6, 1), (5, 3), (2, 3)}.\n",
    "\n",
    "Grafo não direcionado\n",
    "\n",
    "1 --- 6\n",
    "|     /\n",
    "|    /\n",
    "|   /\n",
    "  2 --- 5\n",
    "  |\n",
    "  3\n",
    "\n",
    "Grafico direcionado\n",
    "\n",
    "1 ---> 6\n",
    "|      ^\n",
    "|     /\n",
    "|    /\n",
    "|   /\n",
    "2 ---> 5\n",
    "^     /\n",
    "|    /\n",
    "v    v\n",
    "  3\n",
    "\n",
    "o 4 não tem relação com ninguém.\n"
   ]
  },
  {
   "cell_type": "code",
   "execution_count": null,
   "metadata": {},
   "outputs": [],
   "source": [
    "8. Quantas arestas um gráfico tem 3 vértices de grau 3 e um vértice de grau 5?\n",
    "\n",
    "Possui 7 arestas"
   ]
  },
  {
   "cell_type": "code",
   "execution_count": null,
   "metadata": {},
   "outputs": [],
   "source": [
    "9. O Sr. A é amigo da Sra. B, mas ela também não gosta dele. Ela tem uma amizade recíproca com C e D, \n",
    "mas apenas C considera D um amigo. D também enviou pedidos de amizade para E, F, G e H, mas, até agora, \n",
    "apenas G respondeu. G também tem uma relação recíproca com A. Desenhe o gráfico direcionado \n",
    "correspondente.\n",
    "\n",
    "A --> B\n",
    "↑     ↓\n",
    "|     |\n",
    "|     v\n",
    "+--> C <---+\n",
    "^     |    |\n",
    "|     v    |\n",
    "|     D <--+\n",
    "|     ^\n",
    "|     |\n",
    "+---> G\n",
    "\n",
    "B, E, F, H"
   ]
  },
  {
   "cell_type": "code",
   "execution_count": null,
   "metadata": {},
   "outputs": [],
   "source": [
    "10. Desenhe o gráfico do exercício anterior como não direcionado e ponderado, com o peso sendo 2 se a \n",
    "conexão for recíproca, 1 caso contrário.\n",
    "      1\n",
    " A ----- B\n",
    " |\\      |\n",
    " | \\ 2   | 1\n",
    " |  \\    |\n",
    " |   \\   |\n",
    " |    \\  |\n",
    " |  1  \\ |\n",
    " |       \\|\n",
    " C ----- D\n",
    "  \\  1   /\n",
    "   \\    /\n",
    "  2 \\  / 1\n",
    "     \\/\n",
    "     G"
   ]
  }
 ],
 "metadata": {
  "colab": {
   "authorship_tag": "ABX9TyO4mmFyIAz9FQagd0DJ5a56",
   "provenance": []
  },
  "kernelspec": {
   "display_name": "Python 3 (ipykernel)",
   "language": "python",
   "name": "python3"
  },
  "language_info": {
   "codemirror_mode": {
    "name": "ipython",
    "version": 3
   },
   "file_extension": ".py",
   "mimetype": "text/x-python",
   "name": "python",
   "nbconvert_exporter": "python",
   "pygments_lexer": "ipython3",
   "version": "3.10.12"
  }
 },
 "nbformat": 4,
 "nbformat_minor": 4
}
